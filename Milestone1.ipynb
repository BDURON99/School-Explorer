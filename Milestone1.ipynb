{
 "cells": [
  {
   "cell_type": "markdown",
   "id": "cc9e9ba8-d261-4124-8fc8-c9f3ae59946c",
   "metadata": {},
   "source": [
    "# First data exploration for the school world exploration project\n",
    "\n",
    "This notebook contains the pre-processing of our chosen data sets and some basic statistics to get insights about the data.\n",
    "The overall project goal can be expressed as:\n",
    "\n",
    "> Exploring global education through interactive visuals, revealing the diversity and disparities within school systems across urban and rural landscapes.\n",
    "\n",
    "Data sets:\n",
    "- [World Bank EdStats](https://datacatalog.worldbank.org/search/dataset/0038480/education-statistics)\n",
    "- ...\n",
    " \n",
    "\n"
   ]
  },
  {
   "cell_type": "code",
   "execution_count": 2,
   "id": "4126e776-6417-437a-80ec-eddad9ac2fbc",
   "metadata": {
    "execution": {
     "iopub.execute_input": "2024-03-27T20:30:21.596190Z",
     "iopub.status.busy": "2024-03-27T20:30:21.595482Z",
     "iopub.status.idle": "2024-03-27T20:30:22.207974Z",
     "shell.execute_reply": "2024-03-27T20:30:22.206501Z",
     "shell.execute_reply.started": "2024-03-27T20:30:21.596146Z"
    },
    "tags": []
   },
   "outputs": [],
   "source": [
    "import pandas as pd"
   ]
  },
  {
   "cell_type": "markdown",
   "id": "af1ac566-7ba9-42f6-8b59-a24eb4bb0571",
   "metadata": {},
   "source": [
    "## Load data"
   ]
  },
  {
   "cell_type": "code",
   "execution_count": 8,
   "id": "50c1341a-3e0f-41f7-b736-8bb7f2dc8cfc",
   "metadata": {
    "execution": {
     "iopub.execute_input": "2024-03-27T20:32:01.359074Z",
     "iopub.status.busy": "2024-03-27T20:32:01.196006Z",
     "iopub.status.idle": "2024-03-27T20:32:45.389352Z",
     "shell.execute_reply": "2024-03-27T20:32:45.371661Z",
     "shell.execute_reply.started": "2024-03-27T20:32:01.298304Z"
    },
    "tags": []
   },
   "outputs": [],
   "source": [
    "PATH = \"./data/\"\n",
    "\n",
    "# Loading the EdStats data set from the World Bank\n",
    "countries = pd.read_csv(PATH+ \"EdStatsCountry.csv\")\n",
    "country_series = pd.read_csv(PATH+\"EdStatsCountry-Series.csv\")\n",
    "data = pd.read_csv(PATH+\"EdStatsData.csv\")\n",
    "foot_note = pd.read_csv(PATH+\"EdStatsFootNote.csv\")\n",
    "series = pd.read_csv(PATH+\"EdStatsSeries.csv\")\n"
   ]
  },
  {
   "cell_type": "code",
   "execution_count": 20,
   "id": "ff061576-81c0-44ed-82ab-fa7aba7cbcb1",
   "metadata": {
    "execution": {
     "iopub.execute_input": "2024-03-27T20:41:12.804879Z",
     "iopub.status.busy": "2024-03-27T20:41:12.803947Z",
     "iopub.status.idle": "2024-03-27T20:41:12.865786Z",
     "shell.execute_reply": "2024-03-27T20:41:12.863201Z",
     "shell.execute_reply.started": "2024-03-27T20:41:12.804808Z"
    },
    "tags": []
   },
   "outputs": [
    {
     "name": "stdout",
     "output_type": "stream",
     "text": [
      "\n",
      "Countries\n",
      "Index(['Country Code', 'Short Name', 'Table Name', 'Long Name', '2-alpha code',\n",
      "       'Currency Unit', 'Special Notes', 'Region', 'Income Group', 'WB-2 code',\n",
      "       'National accounts base year', 'National accounts reference year',\n",
      "       'SNA price valuation', 'Lending category', 'Other groups',\n",
      "       'System of National Accounts', 'Alternative conversion factor',\n",
      "       'PPP survey year', 'Balance of Payments Manual in use',\n",
      "       'External debt Reporting status', 'System of trade',\n",
      "       'Government Accounting concept', 'IMF data dissemination standard',\n",
      "       'Latest population census', 'Latest household survey',\n",
      "       'Source of most recent Income and expenditure data',\n",
      "       'Vital registration complete', 'Latest agricultural census',\n",
      "       'Latest industrial data', 'Latest trade data',\n",
      "       'Latest water withdrawal data', 'Unnamed: 31'],\n",
      "      dtype='object')\n",
      "\n",
      "Country Series\n",
      "Index(['CountryCode', 'SeriesCode', 'DESCRIPTION', 'Unnamed: 3'], dtype='object')\n",
      "\n",
      "Data\n",
      "Index(['Country Name', 'Country Code', 'Indicator Name', 'Indicator Code',\n",
      "       '1970', '1971', '1972', '1973', '1974', '1975', '1976', '1977', '1978',\n",
      "       '1979', '1980', '1981', '1982', '1983', '1984', '1985', '1986', '1987',\n",
      "       '1988', '1989', '1990', '1991', '1992', '1993', '1994', '1995', '1996',\n",
      "       '1997', '1998', '1999', '2000', '2001', '2002', '2003', '2004', '2005',\n",
      "       '2006', '2007', '2008', '2009', '2010', '2011', '2012', '2013', '2014',\n",
      "       '2015', '2016', '2017', '2020', '2025', '2030', '2035', '2040', '2045',\n",
      "       '2050', '2055', '2060', '2065', '2070', '2075', '2080', '2085', '2090',\n",
      "       '2095', '2100', 'Unnamed: 69'],\n",
      "      dtype='object')\n",
      "\n",
      "Foot Note\n",
      "Index(['CountryCode', 'SeriesCode', 'Year', 'DESCRIPTION', 'Unnamed: 4'], dtype='object')\n",
      "\n",
      "Series\n",
      "Index(['Series Code', 'Topic', 'Indicator Name', 'Short definition',\n",
      "       'Long definition', 'Unit of measure', 'Periodicity', 'Base Period',\n",
      "       'Other notes', 'Aggregation method', 'Limitations and exceptions',\n",
      "       'Notes from original source', 'General comments', 'Source',\n",
      "       'Statistical concept and methodology', 'Development relevance',\n",
      "       'Related source links', 'Other web links', 'Related indicators',\n",
      "       'License Type', 'Unnamed: 20'],\n",
      "      dtype='object')\n"
     ]
    }
   ],
   "source": [
    "# Print available attributes\n",
    "def print_columns(df, df_name):\n",
    "    print(\"\\n\" + df_name)\n",
    "    print(df.columns)\n",
    "\n",
    "\n",
    "print_columns(countries, \"Countries\")\n",
    "print_columns(country_series, \"Country Series\")\n",
    "print_columns(data, \"Data\")\n",
    "print_columns(foot_note, \"Foot Note\")\n",
    "print_columns(series, \"Series\")"
   ]
  },
  {
   "cell_type": "markdown",
   "id": "8573ae1e-fe1e-402a-83f3-21dfd7d852b0",
   "metadata": {},
   "source": [
    "**The 'Country Code' and 'Series Code' attributes can be used as ids accross the dfs to link data.**"
   ]
  },
  {
   "cell_type": "code",
   "execution_count": null,
   "id": "0af4da3d-a648-4d01-8812-978f4baf79eb",
   "metadata": {},
   "outputs": [],
   "source": []
  },
  {
   "cell_type": "markdown",
   "id": "f30de0d4-0e39-4195-8c20-fde79304078e",
   "metadata": {},
   "source": [
    "## Visual exploration \n",
    "The [World Bank]() website was use to explore big chuncks of the data set. Indeed, the data set contains very rich but sparse data accross **XXX** countries, over **XXX** years for **XXX** categories of data. This notebook explores the data related to the following key features selected from the world bank website. \n",
    "\n",
    "- feature 1\n",
    "- feature 2\n",
    "- ...\n"
   ]
  },
  {
   "cell_type": "code",
   "execution_count": 21,
   "id": "f23fd829-9b01-485e-aeb1-29215f6800cf",
   "metadata": {
    "execution": {
     "iopub.execute_input": "2024-03-27T20:56:36.658336Z",
     "iopub.status.busy": "2024-03-27T20:56:36.616783Z",
     "iopub.status.idle": "2024-03-27T20:56:36.705332Z",
     "shell.execute_reply": "2024-03-27T20:56:36.685442Z",
     "shell.execute_reply.started": "2024-03-27T20:56:36.658205Z"
    },
    "tags": []
   },
   "outputs": [],
   "source": [
    "# TODO explore data youpi !\n",
    "# idea of things to look at\n",
    "# for numerical var:\n",
    "    # histograms, box plots, scatter plots, correlation matrices... \n",
    "# for categorical var:\n",
    "    # bar charts ...\n",
    "# basic stats on data\n",
    "# get insight on distribution, outliers ect.\n"
   ]
  },
  {
   "cell_type": "code",
   "execution_count": null,
   "id": "552d91b1-8f71-42cd-863b-adb558c187a9",
   "metadata": {},
   "outputs": [],
   "source": []
  },
  {
   "cell_type": "code",
   "execution_count": null,
   "id": "ce7e514d-2316-48aa-ad31-7dcfc88341b0",
   "metadata": {},
   "outputs": [],
   "source": []
  },
  {
   "cell_type": "markdown",
   "id": "8eab643e-63dd-4b75-9b49-031de0ddd755",
   "metadata": {},
   "source": [
    "## Draft pieces of code (to remove in the end)"
   ]
  },
  {
   "cell_type": "code",
   "execution_count": 4,
   "id": "4322ffca-b228-4c29-a804-76986d52a99e",
   "metadata": {
    "execution": {
     "iopub.execute_input": "2024-03-27T20:30:47.983954Z",
     "iopub.status.busy": "2024-03-27T20:30:47.983659Z",
     "iopub.status.idle": "2024-03-27T20:30:48.066380Z",
     "shell.execute_reply": "2024-03-27T20:30:48.064861Z",
     "shell.execute_reply.started": "2024-03-27T20:30:47.983928Z"
    },
    "tags": []
   },
   "outputs": [],
   "source": [
    "attendanceF = data[data[\"Indicator Code\"] == \"HH.DHS.NAR.1.F\"]"
   ]
  },
  {
   "cell_type": "code",
   "execution_count": 5,
   "id": "071cd456-0b1a-4278-911c-d8695112776d",
   "metadata": {
    "execution": {
     "iopub.execute_input": "2024-03-27T20:30:48.067836Z",
     "iopub.status.busy": "2024-03-27T20:30:48.067571Z",
     "iopub.status.idle": "2024-03-27T20:30:48.118942Z",
     "shell.execute_reply": "2024-03-27T20:30:48.116376Z",
     "shell.execute_reply.started": "2024-03-27T20:30:48.067811Z"
    },
    "tags": []
   },
   "outputs": [],
   "source": [
    "subset = attendanceF.dropna(subset=['2002','2003','2004','2005'], how='all')"
   ]
  },
  {
   "cell_type": "code",
   "execution_count": 6,
   "id": "32293432-488c-4468-9812-58fe6424d0ee",
   "metadata": {
    "execution": {
     "iopub.execute_input": "2024-03-27T20:30:48.124235Z",
     "iopub.status.busy": "2024-03-27T20:30:48.123638Z",
     "iopub.status.idle": "2024-03-27T20:30:48.197895Z",
     "shell.execute_reply": "2024-03-27T20:30:48.196582Z",
     "shell.execute_reply.started": "2024-03-27T20:30:48.124182Z"
    },
    "tags": []
   },
   "outputs": [
    {
     "data": {
      "text/html": [
       "<div>\n",
       "<style scoped>\n",
       "    .dataframe tbody tr th:only-of-type {\n",
       "        vertical-align: middle;\n",
       "    }\n",
       "\n",
       "    .dataframe tbody tr th {\n",
       "        vertical-align: top;\n",
       "    }\n",
       "\n",
       "    .dataframe thead th {\n",
       "        text-align: right;\n",
       "    }\n",
       "</style>\n",
       "<table border=\"1\" class=\"dataframe\">\n",
       "  <thead>\n",
       "    <tr style=\"text-align: right;\">\n",
       "      <th></th>\n",
       "      <th>Country Name</th>\n",
       "      <th>2002</th>\n",
       "      <th>2003</th>\n",
       "      <th>2004</th>\n",
       "      <th>2005</th>\n",
       "    </tr>\n",
       "  </thead>\n",
       "  <tbody>\n",
       "    <tr>\n",
       "      <th>121515</th>\n",
       "      <td>Armenia</td>\n",
       "      <td>NaN</td>\n",
       "      <td>NaN</td>\n",
       "      <td>NaN</td>\n",
       "      <td>98.246757</td>\n",
       "    </tr>\n",
       "    <tr>\n",
       "      <th>147170</th>\n",
       "      <td>Bangladesh</td>\n",
       "      <td>NaN</td>\n",
       "      <td>NaN</td>\n",
       "      <td>84.883621</td>\n",
       "      <td>NaN</td>\n",
       "    </tr>\n",
       "    <tr>\n",
       "      <th>176490</th>\n",
       "      <td>Bolivia</td>\n",
       "      <td>NaN</td>\n",
       "      <td>82.205487</td>\n",
       "      <td>NaN</td>\n",
       "      <td>NaN</td>\n",
       "    </tr>\n",
       "    <tr>\n",
       "      <th>202145</th>\n",
       "      <td>Burkina Faso</td>\n",
       "      <td>NaN</td>\n",
       "      <td>28.879824</td>\n",
       "      <td>NaN</td>\n",
       "      <td>NaN</td>\n",
       "    </tr>\n",
       "    <tr>\n",
       "      <th>213140</th>\n",
       "      <td>Cambodia</td>\n",
       "      <td>NaN</td>\n",
       "      <td>NaN</td>\n",
       "      <td>NaN</td>\n",
       "      <td>76.633008</td>\n",
       "    </tr>\n",
       "  </tbody>\n",
       "</table>\n",
       "</div>"
      ],
      "text/plain": [
       "        Country Name  2002       2003       2004       2005\n",
       "121515       Armenia   NaN        NaN        NaN  98.246757\n",
       "147170    Bangladesh   NaN        NaN  84.883621        NaN\n",
       "176490       Bolivia   NaN  82.205487        NaN        NaN\n",
       "202145  Burkina Faso   NaN  28.879824        NaN        NaN\n",
       "213140      Cambodia   NaN        NaN        NaN  76.633008"
      ]
     },
     "execution_count": 6,
     "metadata": {},
     "output_type": "execute_result"
    }
   ],
   "source": [
    "subset[['Country Name','2002','2003','2004','2005']].head()"
   ]
  },
  {
   "cell_type": "code",
   "execution_count": null,
   "id": "3cca1a63-44b5-47a3-ae41-d631b55eb918",
   "metadata": {},
   "outputs": [],
   "source": []
  }
 ],
 "metadata": {
  "kernelspec": {
   "display_name": "Python3",
   "language": "python",
   "name": "python3"
  },
  "language_info": {
   "codemirror_mode": {
    "name": "ipython",
    "version": 3
   },
   "file_extension": ".py",
   "mimetype": "text/x-python",
   "name": "python",
   "nbconvert_exporter": "python",
   "pygments_lexer": "ipython3",
   "version": "3.11.5"
  }
 },
 "nbformat": 4,
 "nbformat_minor": 5
}
